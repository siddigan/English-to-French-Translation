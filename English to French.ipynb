{
 "cells": [
  {
   "cell_type": "code",
   "execution_count": 6,
   "metadata": {},
   "outputs": [],
   "source": [
    "import numpy as np\n",
    "import tensorflow as tf\n",
    "from keras.preprocessing.text import Tokenizer\n",
    "from keras.preprocessing.sequence import pad_sequences\n",
    "from keras.models import Model, Sequential\n",
    "from keras.layers import GRU, Input, Dense, TimeDistributed, Activation, RepeatVector, Bidirectional, Dropout, LSTM\n",
    "from keras.layers.embeddings import Embedding\n",
    "from tensorflow.keras.optimizers import Adam\n",
    "from keras.losses import sparse_categorical_crossentropy"
   ]
  },
  {
   "cell_type": "code",
   "execution_count": 7,
   "metadata": {},
   "outputs": [],
   "source": [
    "english_path='https://raw.githubusercontent.com/projjal1/datasets/master/small_vocab_en.txt'\n",
    "french_path='https://raw.githubusercontent.com/projjal1/datasets/master/small_vocab_fr.txt'"
   ]
  },
  {
   "cell_type": "code",
   "execution_count": 8,
   "metadata": {},
   "outputs": [],
   "source": [
    "import os\n",
    "\n",
    "def load_data(path):\n",
    "  input_file = os.path.join(path)\n",
    "  with open(input_file, \"r\") as f:\n",
    "    data = f.read()\n",
    "\n",
    "  return data.split('\\n')"
   ]
  },
  {
   "cell_type": "code",
   "execution_count": 9,
   "metadata": {},
   "outputs": [
    {
     "name": "stdout",
     "output_type": "stream",
     "text": [
      "Downloading data from https://raw.githubusercontent.com/projjal1/datasets/master/small_vocab_en.txt\n",
      "9093120/9085266 [==============================] - 4s 0us/step\n",
      "9101312/9085266 [==============================] - 4s 0us/step\n",
      "Downloading data from https://raw.githubusercontent.com/projjal1/datasets/master/small_vocab_fr.txt\n",
      "10141696/10135741 [==============================] - 4s 0us/step\n",
      "10149888/10135741 [==============================] - 4s 0us/step\n"
     ]
    }
   ],
   "source": [
    "english_data=tf.keras.utils.get_file('file1',english_path)\n",
    "french_data=tf.keras.utils.get_file('file2',french_path)"
   ]
  },
  {
   "cell_type": "code",
   "execution_count": 10,
   "metadata": {},
   "outputs": [],
   "source": [
    "english_sentences=load_data(english_data)\n",
    "french_sentences=load_data(french_data)"
   ]
  },
  {
   "cell_type": "code",
   "execution_count": 11,
   "metadata": {},
   "outputs": [
    {
     "name": "stdout",
     "output_type": "stream",
     "text": [
      "Sample : 0\n",
      "new jersey is sometimes quiet during autumn , and it is snowy in april .\n",
      "new jersey est parfois calme pendant l' automne , et il est neigeux en avril .\n",
      "--------------------------------------------------\n",
      "Sample : 1\n",
      "the united states is usually chilly during july , and it is usually freezing in november .\n",
      "les Ã©tats-unis est gÃ©nÃ©ralement froid en juillet , et il gÃ¨le habituellement en novembre .\n",
      "--------------------------------------------------\n",
      "Sample : 2\n",
      "california is usually quiet during march , and it is usually hot in june .\n",
      "california est gÃ©nÃ©ralement calme en mars , et il est gÃ©nÃ©ralement chaud en juin .\n",
      "--------------------------------------------------\n",
      "Sample : 3\n",
      "the united states is sometimes mild during june , and it is cold in september .\n",
      "les Ã©tats-unis est parfois lÃ©gÃ¨re en juin , et il fait froid en septembre .\n",
      "--------------------------------------------------\n",
      "Sample : 4\n",
      "your least liked fruit is the grape , but my least liked is the apple .\n",
      "votre moins aimÃ© fruit est le raisin , mais mon moins aimÃ© est la pomme .\n",
      "--------------------------------------------------\n"
     ]
    }
   ],
   "source": [
    "for i in range(5):\n",
    "  print('Sample :',i)\n",
    "  print(english_sentences[i])\n",
    "  print(french_sentences[i])\n",
    "  print('-'*50)"
   ]
  },
  {
   "cell_type": "code",
   "execution_count": 12,
   "metadata": {},
   "outputs": [],
   "source": [
    "import collections"
   ]
  },
  {
   "cell_type": "code",
   "execution_count": 13,
   "metadata": {},
   "outputs": [
    {
     "name": "stdout",
     "output_type": "stream",
     "text": [
      "English Vocab: 227\n",
      "French Vocab: 355\n"
     ]
    }
   ],
   "source": [
    "english_words_counter = collections.Counter([word for sentence in english_sentences for word in sentence.split()])\n",
    "french_words_counter = collections.Counter([word for sentence in french_sentences for word in sentence.split()])\n",
    "\n",
    "print('English Vocab:',len(english_words_counter))\n",
    "print('French Vocab:',len(french_words_counter))"
   ]
  },
  {
   "cell_type": "code",
   "execution_count": 14,
   "metadata": {},
   "outputs": [],
   "source": [
    "def tokenize(x):\n",
    "  tokenizer = Tokenizer()\n",
    "  tokenizer.fit_on_texts(x)\n",
    "  return tokenizer.texts_to_sequences(x), tokenizer"
   ]
  },
  {
   "cell_type": "code",
   "execution_count": 15,
   "metadata": {},
   "outputs": [
    {
     "name": "stdout",
     "output_type": "stream",
     "text": [
      "{'the': 1, 'quick': 2, 'a': 3, 'brown': 4, 'fox': 5, 'jumps': 6, 'over': 7, 'lazy': 8, 'dog': 9, 'by': 10, 'jove': 11, 'my': 12, 'study': 13, 'of': 14, 'lexicography': 15, 'won': 16, 'prize': 17, 'this': 18, 'is': 19, 'short': 20, 'sentence': 21}\n",
      "\n",
      "Sequence 1 in x\n",
      "  Input:  The quick brown fox jumps over the lazy dog .\n",
      "  Output: [1, 2, 4, 5, 6, 7, 1, 8, 9]\n",
      "Sequence 2 in x\n",
      "  Input:  By Jove , my quick study of lexicography won a prize .\n",
      "  Output: [10, 11, 12, 2, 13, 14, 15, 16, 3, 17]\n",
      "Sequence 3 in x\n",
      "  Input:  This is a short sentence .\n",
      "  Output: [18, 19, 3, 20, 21]\n"
     ]
    }
   ],
   "source": [
    "text_sentences = [\n",
    "    'The quick brown fox jumps over the lazy dog .',\n",
    "    'By Jove , my quick study of lexicography won a prize .',\n",
    "    'This is a short sentence .']\n",
    "\n",
    "text_tokenized, text_tokenizer = tokenize(text_sentences)\n",
    "print(text_tokenizer.word_index)\n",
    "print()\n",
    "\n",
    "for sample_i, (sent, token_sent) in enumerate(zip(text_sentences, text_tokenized)):\n",
    "  print('Sequence {} in x'.format(sample_i + 1))\n",
    "  print('  Input:  {}'.format(sent))\n",
    "  print('  Output: {}'.format(token_sent))"
   ]
  },
  {
   "cell_type": "code",
   "execution_count": 16,
   "metadata": {},
   "outputs": [],
   "source": [
    "def pad(x, length=None):\n",
    "  return pad_sequences(x, maxlen=length, padding='post')"
   ]
  },
  {
   "cell_type": "code",
   "execution_count": 17,
   "metadata": {},
   "outputs": [
    {
     "name": "stdout",
     "output_type": "stream",
     "text": [
      "Data Preprocessed\n",
      "Max English sentence length: 15\n",
      "Max French sentence length: 21\n",
      "English vocabulary size: 199\n",
      "French vocabulary size: 345\n"
     ]
    }
   ],
   "source": [
    "def preprocess(x, y):\n",
    "    \"\"\"\n",
    "    Preprocess x and y\n",
    "    :param x: Feature List of sentences\n",
    "    :param y: Label List of sentences\n",
    "    :return: Tuple of (Preprocessed x, Preprocessed y, x tokenizer, y tokenizer)\n",
    "    \"\"\"\n",
    "    preprocess_x, x_tk = tokenize(x)\n",
    "    preprocess_y, y_tk = tokenize(y)\n",
    "\n",
    "    preprocess_x = pad(preprocess_x)\n",
    "    preprocess_y = pad(preprocess_y)\n",
    "\n",
    "    # Keras's sparse_categorical_crossentropy function requires the labels to be in 3 dimensions\n",
    "    #Expanding dimensions\n",
    "    preprocess_y = preprocess_y.reshape(*preprocess_y.shape, 1)\n",
    "\n",
    "    return preprocess_x, preprocess_y, x_tk, y_tk\n",
    "\n",
    "preproc_english_sentences, preproc_french_sentences, english_tokenizer, french_tokenizer =\\\n",
    "    preprocess(english_sentences, french_sentences)\n",
    "    \n",
    "max_english_sequence_length = preproc_english_sentences.shape[1]\n",
    "max_french_sequence_length = preproc_french_sentences.shape[1]\n",
    "english_vocab_size = len(english_tokenizer.word_index)\n",
    "french_vocab_size = len(french_tokenizer.word_index)\n",
    "\n",
    "print('Data Preprocessed')\n",
    "print(\"Max English sentence length:\", max_english_sequence_length)\n",
    "print(\"Max French sentence length:\", max_french_sequence_length)\n",
    "print(\"English vocabulary size:\", english_vocab_size)\n",
    "print(\"French vocabulary size:\", french_vocab_size)"
   ]
  },
  {
   "cell_type": "code",
   "execution_count": 18,
   "metadata": {},
   "outputs": [],
   "source": [
    "def logits_to_text(logits, tokenizer):\n",
    "  index_to_words = {id: word for word, id in tokenizer.word_index.items()}\n",
    "  index_to_words[0] = ''\n",
    "\n",
    "  return ' '.join([index_to_words[prediction] for prediction in np.argmax(logits, 1)])"
   ]
  },
  {
   "cell_type": "code",
   "execution_count": 19,
   "metadata": {},
   "outputs": [],
   "source": [
    "def embed_model(input_shape, output_sequence_length, english_vocab_size, french_vocab_size):\n",
    "    \"\"\"\n",
    "    Build and train a RNN model using word embedding on x and y\n",
    "    :param input_shape: Tuple of input shape\n",
    "    :param output_sequence_length: Length of output sequence\n",
    "    :param english_vocab_size: Number of unique English words in the dataset\n",
    "    :param french_vocab_size: Number of unique French words in the dataset\n",
    "    :return: Keras model built, but not trained\n",
    "    \"\"\"\n",
    "    # TODO: Implement\n",
    "\n",
    "    # Hyperparameters\n",
    "    learning_rate = 0.005\n",
    "    \n",
    "    # TODO: Build the layers\n",
    "    model = Sequential()\n",
    "    model.add(Embedding(english_vocab_size, 256, input_length=input_shape[1], input_shape=input_shape[1:]))\n",
    "    model.add(GRU(256, return_sequences=True))    \n",
    "    model.add(TimeDistributed(Dense(1024, activation='relu')))\n",
    "    model.add(Dropout(0.5))\n",
    "    model.add(TimeDistributed(Dense(french_vocab_size, activation='softmax'))) \n",
    "\n",
    "    # Compile model\n",
    "    model.compile(loss=sparse_categorical_crossentropy,\n",
    "                  optimizer=Adam(learning_rate),\n",
    "                  metrics=['accuracy'])\n",
    "    return model"
   ]
  },
  {
   "cell_type": "code",
   "execution_count": 20,
   "metadata": {},
   "outputs": [],
   "source": [
    "tmp_x = pad(preproc_english_sentences, preproc_french_sentences.shape[1])\n",
    "tmp_x = tmp_x.reshape((-1, preproc_french_sentences.shape[-2]))"
   ]
  },
  {
   "cell_type": "code",
   "execution_count": 21,
   "metadata": {},
   "outputs": [],
   "source": [
    "simple_rnn_model = embed_model(\n",
    "    tmp_x.shape,\n",
    "    preproc_french_sentences.shape[1],\n",
    "    len(english_tokenizer.word_index)+1,\n",
    "    len(french_tokenizer.word_index)+1)"
   ]
  },
  {
   "cell_type": "code",
   "execution_count": 22,
   "metadata": {},
   "outputs": [
    {
     "name": "stdout",
     "output_type": "stream",
     "text": [
      "Model: \"sequential\"\n",
      "_________________________________________________________________\n",
      " Layer (type)                Output Shape              Param #   \n",
      "=================================================================\n",
      " embedding (Embedding)       (None, 21, 256)           51200     \n",
      "                                                                 \n",
      " gru (GRU)                   (None, 21, 256)           394752    \n",
      "                                                                 \n",
      " time_distributed (TimeDistr  (None, 21, 1024)         263168    \n",
      " ibuted)                                                         \n",
      "                                                                 \n",
      " dropout (Dropout)           (None, 21, 1024)          0         \n",
      "                                                                 \n",
      " time_distributed_1 (TimeDis  (None, 21, 346)          354650    \n",
      " tributed)                                                       \n",
      "                                                                 \n",
      "=================================================================\n",
      "Total params: 1,063,770\n",
      "Trainable params: 1,063,770\n",
      "Non-trainable params: 0\n",
      "_________________________________________________________________\n"
     ]
    }
   ],
   "source": [
    "simple_rnn_model.summary()"
   ]
  },
  {
   "cell_type": "code",
   "execution_count": 23,
   "metadata": {},
   "outputs": [
    {
     "name": "stdout",
     "output_type": "stream",
     "text": [
      "Epoch 1/20\n",
      "108/108 [==============================] - 182s 2s/step - loss: 1.4108 - accuracy: 0.6716 - val_loss: 0.5078 - val_accuracy: 0.8374\n",
      "Epoch 2/20\n",
      "108/108 [==============================] - 169s 2s/step - loss: 0.4234 - accuracy: 0.8611 - val_loss: 0.3172 - val_accuracy: 0.8934\n",
      "Epoch 3/20\n",
      "108/108 [==============================] - 205s 2s/step - loss: 0.3014 - accuracy: 0.8990 - val_loss: 0.2469 - val_accuracy: 0.9159\n",
      "Epoch 4/20\n",
      "108/108 [==============================] - 178s 2s/step - loss: 0.2512 - accuracy: 0.9150 - val_loss: 0.2196 - val_accuracy: 0.9241\n",
      "Epoch 5/20\n",
      "108/108 [==============================] - 180s 2s/step - loss: 0.2239 - accuracy: 0.9230 - val_loss: 0.2047 - val_accuracy: 0.9287\n",
      "Epoch 6/20\n",
      "108/108 [==============================] - 168s 2s/step - loss: 0.2081 - accuracy: 0.9279 - val_loss: 0.1961 - val_accuracy: 0.9316\n",
      "Epoch 7/20\n",
      "108/108 [==============================] - 171s 2s/step - loss: 0.1974 - accuracy: 0.9308 - val_loss: 0.1897 - val_accuracy: 0.9333\n",
      "Epoch 8/20\n",
      "108/108 [==============================] - 175s 2s/step - loss: 0.1921 - accuracy: 0.9322 - val_loss: 0.1889 - val_accuracy: 0.9335\n",
      "Epoch 9/20\n",
      "108/108 [==============================] - 179s 2s/step - loss: 0.1864 - accuracy: 0.9339 - val_loss: 0.1830 - val_accuracy: 0.9352\n",
      "Epoch 10/20\n",
      "108/108 [==============================] - 178s 2s/step - loss: 0.1802 - accuracy: 0.9356 - val_loss: 0.1818 - val_accuracy: 0.9360\n",
      "Epoch 11/20\n",
      "108/108 [==============================] - 181s 2s/step - loss: 0.1776 - accuracy: 0.9363 - val_loss: 0.1793 - val_accuracy: 0.9370\n",
      "Epoch 12/20\n",
      "108/108 [==============================] - 180s 2s/step - loss: 0.1756 - accuracy: 0.9367 - val_loss: 0.1823 - val_accuracy: 0.9369\n",
      "Epoch 13/20\n",
      "108/108 [==============================] - 174s 2s/step - loss: 0.1719 - accuracy: 0.9378 - val_loss: 0.1788 - val_accuracy: 0.9375\n",
      "Epoch 14/20\n",
      "108/108 [==============================] - 175s 2s/step - loss: 0.1706 - accuracy: 0.9382 - val_loss: 0.1805 - val_accuracy: 0.9379\n",
      "Epoch 15/20\n",
      "108/108 [==============================] - 180s 2s/step - loss: 0.1687 - accuracy: 0.9386 - val_loss: 0.1780 - val_accuracy: 0.9379\n",
      "Epoch 16/20\n",
      "108/108 [==============================] - 181s 2s/step - loss: 0.1681 - accuracy: 0.9387 - val_loss: 0.1795 - val_accuracy: 0.9376\n",
      "Epoch 17/20\n",
      "108/108 [==============================] - 179s 2s/step - loss: 0.1680 - accuracy: 0.9388 - val_loss: 0.1801 - val_accuracy: 0.9381\n",
      "Epoch 18/20\n",
      "108/108 [==============================] - 173s 2s/step - loss: 0.1694 - accuracy: 0.9385 - val_loss: 0.1853 - val_accuracy: 0.9366\n",
      "Epoch 19/20\n",
      "108/108 [==============================] - 173s 2s/step - loss: 0.1675 - accuracy: 0.9389 - val_loss: 0.1785 - val_accuracy: 0.9386\n",
      "Epoch 20/20\n",
      "108/108 [==============================] - 173s 2s/step - loss: 0.1645 - accuracy: 0.9397 - val_loss: 0.1791 - val_accuracy: 0.9381\n"
     ]
    }
   ],
   "source": [
    "history=simple_rnn_model.fit(tmp_x, preproc_french_sentences, batch_size=1024, epochs=20, validation_split=0.2)"
   ]
  },
  {
   "cell_type": "code",
   "execution_count": 24,
   "metadata": {},
   "outputs": [],
   "source": [
    "simple_rnn_model.save('model.h5')"
   ]
  },
  {
   "cell_type": "code",
   "execution_count": 25,
   "metadata": {},
   "outputs": [],
   "source": [
    "def final_predictions(text):\n",
    "  y_id_to_word = {value: key for key, value in french_tokenizer.word_index.items()}\n",
    "  y_id_to_word[0] = ''\n",
    "\n",
    "  sentence = [english_tokenizer.word_index[word] for word in text.split()]\n",
    "  sentence = pad_sequences([sentence], maxlen=preproc_french_sentences.shape[-2], padding='post')\n",
    "  \n",
    "  print(sentence.shape)\n",
    "  print(logits_to_text(simple_rnn_model.predict(sentence[:1])[0], french_tokenizer))"
   ]
  },
  {
   "cell_type": "code",
   "execution_count": 26,
   "metadata": {},
   "outputs": [],
   "source": [
    "import re"
   ]
  },
  {
   "cell_type": "code",
   "execution_count": 30,
   "metadata": {},
   "outputs": [
    {
     "name": "stdout",
     "output_type": "stream",
     "text": [
      "china is usually pleasant during autumn\n",
      "(1, 21)\n",
      "chine est gã©nã©ralement agrã©able en automne               \n"
     ]
    }
   ],
   "source": [
    "txt=input().lower()\n",
    "final_predictions(re.sub(r'[^\\w]', ' ', txt))"
   ]
  },
  {
   "cell_type": "code",
   "execution_count": null,
   "metadata": {},
   "outputs": [],
   "source": []
  }
 ],
 "metadata": {
  "kernelspec": {
   "display_name": "Python 3",
   "language": "python",
   "name": "python3"
  },
  "language_info": {
   "codemirror_mode": {
    "name": "ipython",
    "version": 3
   },
   "file_extension": ".py",
   "mimetype": "text/x-python",
   "name": "python",
   "nbconvert_exporter": "python",
   "pygments_lexer": "ipython3",
   "version": "3.8.3"
  }
 },
 "nbformat": 4,
 "nbformat_minor": 4
}
